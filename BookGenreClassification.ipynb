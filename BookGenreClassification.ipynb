{
  "metadata": {
    "kernelspec": {
      "name": "python",
      "display_name": "Python (Pyodide)",
      "language": "python"
    },
    "language_info": {
      "codemirror_mode": {
        "name": "python",
        "version": 3
      },
      "file_extension": ".py",
      "mimetype": "text/x-python",
      "name": "python",
      "nbconvert_exporter": "python",
      "pygments_lexer": "ipython3",
      "version": "3.8"
    }
  },
  "nbformat_minor": 4,
  "nbformat": 4,
  "cells": [
    {
      "cell_type": "code",
      "source": "import pandas as pd\nfrom sklearn.feature_extraction.text import CountVectorizer\nfrom sklearn.model_selection import train_test_split\nfrom sklearn.linear_model import LinearRegression\nfrom sklearn.metrics import mean_squared_error, r2_score\n\n# Load Dataset\nfile_path = 'goodreads_data.csv'\ndf = pd.read_csv(file_path)\n\n# Display the first few rows of the dataset to understand its structure\ndf.head()\n\n# Sample Data Preparation\ndf_sample = df.dropna(subset=['Description'])  # Remove rows where 'Description' is NaN\ndf_sample = df_sample[df_sample['Avg_Rating'].notna()]  # Ensure Avg_Rating is not NaN\n\n# Feature extraction\nvectorizer = CountVectorizer(max_features=1000)  # Reduce the number of features to manage memory\nX = vectorizer.fit_transform(df_sample['Description'])\ny = df_sample['Avg_Rating']  # Use 'Avg_Rating' as the target column\n\n# Split the data into training and testing sets\nX_train, X_test, y_train, y_test = train_test_split(X, y, test_size=0.3, random_state=42)\n\n# Model Training\nmodel = LinearRegression()\nmodel.fit(X_train, y_train)\n\n# Predictions\ny_pred = model.predict(X_test)\n\n# Evaluation\nmse = mean_squared_error(y_test, y_pred)\nr2 = r2_score(y_test, y_pred)\n\nprint(f'Mean Squared Error: {mse}')\nprint(f'R^2 Score: {r2}')\n",
      "metadata": {
        "trusted": true
      },
      "outputs": [
        {
          "name": "stdout",
          "text": "Mean Squared Error: 0.10896015032772902\nR^2 Score: -0.0887906817591011\n",
          "output_type": "stream"
        }
      ],
      "execution_count": 10
    }
  ]
}